{
 "cells": [
  {
   "cell_type": "markdown",
   "id": "00aa9852-92d9-4562-91af-3fb084c7de0c",
   "metadata": {},
   "source": [
    "# Before adding new ice cream"
   ]
  },
  {
   "cell_type": "code",
   "execution_count": null,
   "id": "0d87bd65-de88-4242-8d83-054f9cb9094b",
   "metadata": {},
   "outputs": [],
   "source": [
    "from requests import put, get, post, delete"
   ]
  },
  {
   "cell_type": "code",
   "execution_count": null,
   "id": "7ed56205-2c0a-457e-be81-47da7838ca6a",
   "metadata": {},
   "outputs": [],
   "source": [
    "return_json = get(\"http://localhost:5000/selection\")"
   ]
  },
  {
   "cell_type": "code",
   "execution_count": null,
   "id": "9d1bbbff-20ae-4772-8e78-832cfc7bf2cc",
   "metadata": {},
   "outputs": [],
   "source": [
    "print(f\"GET(selection): {return_json.json()}\")"
   ]
  },
  {
   "cell_type": "code",
   "execution_count": null,
   "id": "ffa3f4b8-a2e8-479b-ad30-db130752057d",
   "metadata": {},
   "outputs": [],
   "source": []
  },
  {
   "cell_type": "markdown",
   "id": "0a99586d-34c5-4f0b-8998-79097106489a",
   "metadata": {},
   "source": [
    "# Adding new ice cream"
   ]
  },
  {
   "cell_type": "code",
   "execution_count": null,
   "id": "f3157131-5838-4b62-b9ca-c5d6c73f14de",
   "metadata": {},
   "outputs": [],
   "source": [
    "post_json = post(\"http://localhost:5000/selection\", data={'description': 'Vanilla ice cream with salted caramel swirls'})"
   ]
  },
  {
   "cell_type": "code",
   "execution_count": null,
   "id": "eff343d2-1330-4709-a5f8-349db9e041ef",
   "metadata": {},
   "outputs": [],
   "source": [
    "print(f\"POST({post_json.status_code}: {post_json.json()})\")"
   ]
  },
  {
   "cell_type": "code",
   "execution_count": null,
   "id": "64bbc7f2-439e-4e5a-a982-ad40a5b01507",
   "metadata": {},
   "outputs": [],
   "source": [
    "post_json = post(\"http://localhost:5000/selection\", data={'description': 'Mint ice cream with fudge brownies'})"
   ]
  },
  {
   "cell_type": "code",
   "execution_count": null,
   "id": "253cea2c-761e-4398-97d1-09bb8465ebf5",
   "metadata": {},
   "outputs": [],
   "source": [
    "print(f\"POST({post_json.status_code}: {post_json.json()})\")"
   ]
  },
  {
   "cell_type": "code",
   "execution_count": null,
   "id": "383eeaf4-2525-4184-b5e4-d995f80254f6",
   "metadata": {},
   "outputs": [],
   "source": [
    "post_json = post(\"http://localhost:5000/selection\", data={'description': 'Caramel ice cream'})"
   ]
  },
  {
   "cell_type": "code",
   "execution_count": null,
   "id": "cbba5829-4259-4c67-8628-67bebd85254e",
   "metadata": {},
   "outputs": [],
   "source": [
    "print(f\"POST({post_json.status_code}: {post_json.json()})\")"
   ]
  },
  {
   "cell_type": "code",
   "execution_count": null,
   "id": "ca7f89e0-a5fd-451e-913d-e5bca2f96545",
   "metadata": {},
   "outputs": [],
   "source": []
  },
  {
   "cell_type": "markdown",
   "id": "986f38e8-24a7-437f-a0be-38fa6275f99f",
   "metadata": {},
   "source": [
    "# After adding new ice cream"
   ]
  },
  {
   "cell_type": "code",
   "execution_count": null,
   "id": "3c057954-f40a-4043-8a0e-06d0d9628d21",
   "metadata": {},
   "outputs": [],
   "source": [
    "return_json = get(\"http://localhost:5000/selection\")"
   ]
  },
  {
   "cell_type": "code",
   "execution_count": null,
   "id": "e8c88ce0-2926-4f93-98b0-157f53302c33",
   "metadata": {},
   "outputs": [],
   "source": [
    "print(f\"GET(selection): {return_json.json()}\")"
   ]
  },
  {
   "cell_type": "code",
   "execution_count": null,
   "id": "1410574c-6c26-4030-ba4a-9b40bf730868",
   "metadata": {},
   "outputs": [],
   "source": []
  },
  {
   "cell_type": "markdown",
   "id": "1fb27032-0c41-488d-b810-bcfbde9eca9a",
   "metadata": {},
   "source": [
    "# Putting and deleting ice cream flavors"
   ]
  },
  {
   "cell_type": "code",
   "execution_count": null,
   "id": "58279525-385e-4c65-acbe-aa558d9a8608",
   "metadata": {},
   "outputs": [],
   "source": [
    "post_json2 = put(\"http://localhost:5000/selection/icecream10\", data={'description': 'Cherry ice cream with cherries'})"
   ]
  },
  {
   "cell_type": "code",
   "execution_count": null,
   "id": "9a1ac353-7700-4b22-8229-300b45101a85",
   "metadata": {},
   "outputs": [],
   "source": [
    "print(\"POST({status_code}): {json}\".format(status_code = post_json2.status_code, json=post_json2.json()))"
   ]
  },
  {
   "cell_type": "code",
   "execution_count": null,
   "id": "8ca063c3-f27e-494f-9370-366c32c1f834",
   "metadata": {},
   "outputs": [],
   "source": [
    "del_json = delete('http://localhost:5000/selection/icecream2')"
   ]
  },
  {
   "cell_type": "code",
   "execution_count": null,
   "id": "b3c2952b-c2c8-4b17-b7cb-1207f521235c",
   "metadata": {},
   "outputs": [],
   "source": [
    "print(\"DELETE({status_code}): {json}\".format(status_code = del_json.status_code, json=del_json))"
   ]
  },
  {
   "cell_type": "code",
   "execution_count": null,
   "id": "6e9507aa-76e5-49e8-b7e8-fcd7e89d7f29",
   "metadata": {},
   "outputs": [],
   "source": [
    "return_ping = get(\"http://127.0.0.1:5000/selection\") #Running on http://127.0.0.1:5000/"
   ]
  },
  {
   "cell_type": "code",
   "execution_count": null,
   "id": "5a2594f3-2002-47f8-aeed-71e9538e3375",
   "metadata": {},
   "outputs": [],
   "source": [
    "print(\"POST({status_code}): {json}\".format(status_code = return_ping.status_code, json=return_ping.json()))"
   ]
  },
  {
   "cell_type": "code",
   "execution_count": null,
   "id": "2e505551-972c-42c4-85b6-2c75c1a347f3",
   "metadata": {},
   "outputs": [],
   "source": []
  }
 ],
 "metadata": {
  "kernelspec": {
   "display_name": "Python 3 (ipykernel)",
   "language": "python",
   "name": "python3"
  },
  "language_info": {
   "codemirror_mode": {
    "name": "ipython",
    "version": 3
   },
   "file_extension": ".py",
   "mimetype": "text/x-python",
   "name": "python",
   "nbconvert_exporter": "python",
   "pygments_lexer": "ipython3",
   "version": "3.8.10"
  }
 },
 "nbformat": 4,
 "nbformat_minor": 5
}
